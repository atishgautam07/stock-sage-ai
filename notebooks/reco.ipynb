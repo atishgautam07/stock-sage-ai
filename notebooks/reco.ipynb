{
 "cells": [
  {
   "cell_type": "code",
   "execution_count": 1,
   "metadata": {},
   "outputs": [],
   "source": [
    "from langchain_openai import ChatOpenAI\n",
    "from langchain.chains import LLMChain\n",
    "from langchain.prompts import PromptTemplate\n",
    "import sys\n",
    "import os\n"
   ]
  },
  {
   "cell_type": "code",
   "execution_count": 2,
   "metadata": {},
   "outputs": [],
   "source": [
    "import sys\n",
    "import os\n",
    "from pathlib import Path\n",
    "\n",
    "sys.path.append(str(Path.cwd().parent))\n",
    "\n",
    "from config import LLM_MODEL"
   ]
  },
  {
   "cell_type": "code",
   "execution_count": 3,
   "metadata": {},
   "outputs": [],
   "source": [
    "llm = ChatOpenAI(temperature=0.2, model=LLM_MODEL)\n",
    "\n",
    "# Create recommendation prompt\n",
    "recommendation_template = \"\"\"\n",
    "You are a financial advisor specializing in short-term stock investments.\n",
    "\n",
    "Based on the following scores and insights for {ticker} ({company_name}), \n",
    "provide a detailed investment recommendation.\n",
    "\n",
    "SCORES:\n",
    "{scores}\n",
    "\n",
    "RECENT INSIGHTS:\n",
    "{key_insights}\n",
    "\n",
    "Provide a comprehensive recommendation that includes:\n",
    "1. Investment thesis (2-3 paragraphs)\n",
    "2. Key supporting factors (bullet points)\n",
    "3. Potential risks (bullet points)\n",
    "4. Suggested entry points or conditions\n",
    "5. Suggested exit strategy or price targets\n",
    "6. Timeline considerations\n",
    "\n",
    "Keep your recommendation focused on short-term investment horizon (last 3 months).\n",
    "\"\"\"\n",
    "\n"
   ]
  },
  {
   "cell_type": "code",
   "execution_count": 4,
   "metadata": {},
   "outputs": [],
   "source": [
    "recommendation_prompt = PromptTemplate(\n",
    "    input_variables=[\"ticker\", \"company_name\", \"scores\", \"key_insights\"],\n",
    "    template=recommendation_template\n",
    ")\n",
    "\n",
    "recommendation_chain = recommendation_prompt | llm\n"
   ]
  },
  {
   "cell_type": "code",
   "execution_count": 5,
   "metadata": {},
   "outputs": [
    {
     "name": "stdout",
     "output_type": "stream",
     "text": [
      "\n",
      "\n",
      "\u001b[1m> Entering new AgentExecutor chain...\u001b[0m\n",
      "\u001b[32;1m\u001b[1;3m\n",
      "Invoking: `tavily_search_results_json` with `{'query': 'Microsoft Corporation MSFT recent quarterly results earnings analyst ratings business developments market trends competitive landscape'}`\n",
      "\n",
      "\n",
      "\u001b[0m\u001b[36;1m\u001b[1;3m[{'title': 'Microsoft Corporation (MSFT) Analyst Ratings, Estimates & Forecasts', 'url': 'https://finance.yahoo.com/quote/MSFT/analysis/', 'content': '| Currency in USD | Current Qtr. (Mar 2025) | Next Qtr. (Jun 2025) | Current Year (2025) | Next Year (2026) |\\n| --- | --- | --- | --- | --- |\\n| No. of Analysts | 32 | 31 | 55 | 54 |\\n| Avg. Estimate | 68.46B | 72.68B | 277.27B | 315.96B |\\n| Low Estimate | 67.14B | 71.47B | 274.86B | 304.21B |\\n| High Estimate | 69.36B | 74.63B | 283.15B | 341.76B |\\n| Year Ago Sales | 61.86B | 64.73B | 245.12B | 277.27B |\\n| Sales Growth (year/est) | 10.67% | 12.29% | 13.11% | 13.95% |\\nEarnings History [...] Analyst Price Targets\\n420.00\\n506.80 Average\\n409.75 Current\\n650.00 High\\nEarnings Estimate\\n| Currency in USD | Current Qtr. (Mar 2025) | Next Qtr. (Jun 2025) | Current Year (2025) | Next Year (2026) |\\n| --- | --- | --- | --- | --- |\\n| No. of Analysts | 32 | 32 | 48 | 49 |\\n| Avg. Estimate | 3.21 | 3.33 | 13.16 | 15.07 |\\n| Low Estimate | 3.16 | 3.21 | 12.93 | 14.3 |\\n| High Estimate | 3.31 | 3.57 | 13.75 | 16.69 |\\n| Year Ago EPS | 2.94 | 2.95 | 11.8 | 13.16 |\\nRevenue Estimate [...] | 7 Days Ago | 3.15 | 3.28 | 13.01 | 15.04 |\\n| 30 Days Ago | 3.17 | 3.29 | 13.04 | 15.08 |\\n| 60 Days Ago | 3.17 | 3.3 | 13.07 | 15.1 |\\n| 90 Days Ago | 3.17 | 3.29 | 13.1 | 15.14 |\\nEPS Revisions\\n| Currency in USD | Current Qtr. (Mar 2025) | Next Qtr. (Jun 2025) | Current Year (2025) | Next Year (2026) |\\n| --- | --- | --- | --- | --- |\\n| Up Last 7 Days | 18 | 16 | 24 | 17 |\\n| Up Last 30 Days | 18 | 17 | 25 | 18 |\\n| Down Last 7 Days | 7 | 8 | 8 | 15 |\\n| Down Last 30 Days | 8 | 8 | 8 | 16 |', 'score': 0.85097736}, {'title': 'MSFT | Microsoft Corp. Analyst Estimates & Ratings - WSJ', 'url': 'https://www.wsj.com/market-data/quotes/MSFT/research-ratings', 'content': 'MSFT will report FY 2026 earnings on 07/29/2025 MSFT will report Q3 earnings on 04/29/2025. Q3 2025 Estimate Trends. Current: $3.23. 1 month ago: $3.23. 3', 'score': 0.70823324}, {'title': 'Microsoft Corporation (MSFT) - Yahoo Finance', 'url': 'https://finance.yahoo.com/quote/MSFT/', 'content': \"Previous Close 392.53\\nOpen 392.76\\nBid 394.70 x 300\\nAsk 412.40 x 100\\nDay's Range 386.58 - 397.63\\n52 Week Range 385.58 - 468.35\\nVolume 31,886,757\\nAvg. Volume 22,282,840\\nMarket Cap (intraday) 2.951T\\nBeta (5Y Monthly) 0.89\\nPE Ratio (TTM) 31.94\\nEPS (TTM) 12.43\\nEarnings Date Apr 23, 2025 - Apr 28, 2025\\nForward Dividend & Yield 3.32 (0.84%)\\nEx-Dividend Date Feb 20, 2025\\n1y Target Est 508.05 [...] Market Cap\\n2.95T\\n\\n\\nEnterprise Value\\n2.94T\\n\\n\\nTrailing P/E\\n31.99\\n\\n\\nForward P/E\\n30.21\\n\\n\\nPEG Ratio (5yr expected)\\n2.07\\n\\n\\nPrice/Sales (ttm)\\n11.33\\n\\n\\nPrice/Book (mrq)\\n9.75\\n\\n\\nEnterprise Value/Revenue\\n11.24\\n\\n\\nEnterprise Value/EBITDA\\n20.59\\n\\n\\nFinancial Highlights\\nProfitability and Income Statement\\n\\n\\nProfit Margin\\n35.43%\\n\\n\\nReturn on Assets (ttm)\\n14.65%\\n\\n\\nReturn on Equity (ttm)\\n34.29%\\n\\n\\nRevenue (ttm)\\n261.8B\\n\\n\\nNet Income Avi to Common (ttm)\\n92.75B\\n\\n\\nDiluted EPS (ttm)\\n12.43\\n\\n\\nBalance Sheet and Cash Flow [...] Mkt Cap 50.139B\\nIndustry Software—Infrastructure\\nSNPS Synopsys, Inc.\\n457.28\\n+0.57%\\nMkt Cap 70.705B\\nIndustry Software—Infrastructure\\nFTNT Fortinet, Inc.\\n108.01\\n+0.86%\\nMkt Cap 83.057B\\nIndustry Software—Infrastructure\\nAFRM Affirm Holdings, Inc.\\n64.15\\n+3.95%\\nMkt Cap 20.403B\\nIndustry Software—Infrastructure\\nMDB MongoDB, Inc.\\n267.43\\n+1.91%\\nMkt Cap 21.43B\\nIndustry Software—Infrastructure\\nStatistics: MSFT\\nView More\\nValuation Measures\\nCurrent Quarterly Annual\\nAs of 2/28/2025\", 'score': 0.63452125}, {'title': 'Earnings Release FY25 Q2 - Investor Relations - Microsoft', 'url': 'https://www.microsoft.com/en-us/Investor/earnings/FY-2025-Q2/press-release-webcast?os=fuzzscanL12tr&ref=app', 'content': 'Microsoft returned $9.7 billion to shareholders in the form of dividends and share repurchases in the second quarter of fiscal year 2025.', 'score': 0.55912215}, {'title': 'Microsoft 2024 Annual Report', 'url': 'https://www.microsoft.com/investor/reports/ar24/index.html', 'content': 'financial statements since the date of acquisition and represented less than 1% of our total assets as of June 30, 2024 after excluding goodwill and intangible assets acquired, and 2% of our total revenues for the year ended June 30, 2024. Based on this evaluation, management concluded that the Company’s internal control over financial reporting was effective as of June 30, 2024. There were no changes in our internal control over financial reporting during the quarter ended June 30, 2024 that [...] Operating expenses increased $4.0 billion or 7% driven by Gaming, with 7 points of growth from the Activision Blizzard acquisition, and investments in cloud engineering, offset in part by the prior year Q2 charge.\\nOperating income increased $20.9 billion or 24% driven by growth across each of our segments. [...] We repurchased the following shares of common stock under the share repurchase programs:\\n(In millions)SharesAmountSharesAmountSharesAmountYear Ended June 30,202420232022First Quarter11$ 3,56017$ 4,60021$ 6,200Second Quarter72,800204,600206,233Third Quarter72,800184,600267,800Fourth Quarter72,800144,600287,800Total32$ 11,96069$ 18,40095$ 28,033', 'score': 0.5565207}]\u001b[0m\u001b[32;1m\u001b[1;3mHere is the recent information on Microsoft Corporation (MSFT) relevant for short-term investment analysis:\n",
      "\n",
      "### 1. Quarterly Financial Results and Earnings\n",
      "- **Recent Earnings**: Microsoft reported its Q2 FY2025 earnings, returning $9.7 billion to shareholders through dividends and share repurchases. The operating income increased by 24%, driven by growth across all segments.\n",
      "- **Upcoming Earnings**: The next earnings report is scheduled for April 23-28, 2025. Analysts estimate earnings per share (EPS) of approximately $3.21 for the current quarter and $3.33 for the next quarter.\n",
      "\n",
      "### 2. Analyst Ratings and Price Targets\n",
      "- **Analyst Estimates**: \n",
      "  - Current quarter (Mar 2025) average revenue estimate is $68.46 billion, with a high estimate of $69.36 billion.\n",
      "  - EPS estimates for the current quarter range from $3.16 (low) to $3.31 (high).\n",
      "- **Price Targets**: The average price target is around $506.80, with a high target of $650.00 and a current price of approximately $409.75.\n",
      "\n",
      "### 3. Business Developments, Product Launches, Partnerships\n",
      "- Microsoft continues to invest heavily in cloud engineering and gaming, particularly following its acquisition of Activision Blizzard, which has contributed significantly to its growth.\n",
      "- The company is focusing on expanding its cloud services, which remain a key growth driver.\n",
      "\n",
      "### 4. Market Trends Affecting the Company\n",
      "- The software and cloud computing markets are experiencing robust growth, with increasing demand for AI and cloud services. Microsoft is well-positioned to benefit from these trends.\n",
      "- The overall tech sector is facing some volatility, but Microsoft's strong fundamentals and market position provide a buffer against broader market fluctuations.\n",
      "\n",
      "### 5. Competitive Landscape\n",
      "- Microsoft competes with major players like Amazon (AWS), Google (Cloud), and other software companies. Its recent investments in AI and cloud infrastructure are aimed at maintaining a competitive edge.\n",
      "- The gaming sector, particularly with the Activision acquisition, positions Microsoft strongly against competitors like Sony and Nintendo.\n",
      "\n",
      "### Summary\n",
      "Microsoft's strong financial performance, positive analyst ratings, and strategic investments in cloud and gaming make it a compelling option for short-term investment. However, investors should remain aware of market volatility and competitive pressures in the tech sector. \n",
      "\n",
      "For more detailed information, you can check the following resources:\n",
      "- [Yahoo Finance - MSFT](https://finance.yahoo.com/quote/MSFT/)\n",
      "- [Microsoft Investor Relations](https://www.microsoft.com/en-us/Investor/earnings/FY-2025-Q2/press-release-webcast?os=fuzzscanL12tr&ref=app)\u001b[0m\n",
      "\n",
      "\u001b[1m> Finished chain.\u001b[0m\n"
     ]
    }
   ],
   "source": [
    "from agents.research import ResearchAgent\n",
    "from agents.filtering import FilteringSystem\n",
    "from agents.extraction import ExtractionAgent\n",
    "from agents.scoring import ScoringMechanism\n",
    "\n",
    "research_agent = ResearchAgent()\n",
    "filtering_system = FilteringSystem()\n",
    "extraction_agent = ExtractionAgent()\n",
    "scoring_mechanism = ScoringMechanism()\n",
    "\n",
    "research_results = research_agent.research(\"MSFT\", \"Microsoft Corporation\")\n",
    "filtered_results = filtering_system.filter(research_results, \"MSFT\", \"Microsoft Corporation\")\n",
    "extraction_results = extraction_agent.process(filtered_results)\n",
    "scoring_results = scoring_mechanism.score(extraction_results)\n"
   ]
  },
  {
   "cell_type": "code",
   "execution_count": 6,
   "metadata": {},
   "outputs": [],
   "source": [
    "ticker = scoring_results[\"ticker\"]\n",
    "company_name = scoring_results[\"company_name\"]\n",
    "score = scoring_results[\"score\"]\n",
    "extracted_insights = scoring_results[\"extracted_insights\"]\n"
   ]
  },
  {
   "cell_type": "code",
   "execution_count": 8,
   "metadata": {},
   "outputs": [
    {
     "data": {
      "text/plain": [
       "[{'url': 'https://finance.yahoo.com/quote/MSFT/)',\n",
       "  'structured_insights': {'financial_metrics': [],\n",
       "   'analyst_opinions': [],\n",
       "   'business_developments': [],\n",
       "   'market_sentiment': {'overall_sentiment': 'neutral',\n",
       "    'trading_volume': '',\n",
       "    'price_movement': '',\n",
       "    'volatility': ''},\n",
       "   'risk_factors': []},\n",
       "  'summary': \"Based on the provided article about Microsoft Corporation (MSFT), here are the key investment insights for a short-term investor (3-month horizon):\\n\\n1. **Recent Financial Results**: The article does not provide specific financial results, but investors should look for Microsoft's latest earnings report, focusing on revenue growth, profit margins, and guidance for future quarters.\\n\\n2. **Analyst Ratings and Price Targets**: The article lacks specific analyst ratings and price targets. Investors should check recent analyst reports for any upgrades or downgrades, as well as consensus price targets that could indicate potential upside or downside.\\n\\n3. **Business Developments and News**: The article does not mention any recent business developments or news. Investors should stay updated on any product launches, partnerships, or acquisitions that could impact Microsoft's market position and stock performance.\\n\\n4. **Market Sentiment and Trading Patterns**: The article does not provide insights into current market sentiment or trading patterns. Investors should monitor trading volume, stock price trends, and overall market conditions to gauge investor sentiment towards MSFT.\\n\\n5. **Key Risk Factors**: The article does not outline specific risk factors. However, investors should consider potential risks such as regulatory challenges, competition in the tech sector, and macroeconomic factors that could affect Microsoft's performance.\\n\\nIn summary, while the article lacks detailed information, short-term investors should focus on recent earnings, analyst opinions, business developments, market sentiment, and potential risks when making investment decisions regarding MSFT.\"},\n",
       " {'url': 'https://www.microsoft.com/en-us/Investor/earnings/FY-2025-Q2/press-release-webcast?os=fuzzscanL12tr&ref=app)',\n",
       "  'structured_insights': {'financial_metrics': [{'metric_name': 'Revenue',\n",
       "     'value': '$69.6 billion',\n",
       "     'comparison': 'increased 12% year-over-year',\n",
       "     'sentiment': 'positive'},\n",
       "    {'metric_name': 'Operating income',\n",
       "     'value': '$31.7 billion',\n",
       "     'comparison': 'increased 17% year-over-year',\n",
       "     'sentiment': 'positive'},\n",
       "    {'metric_name': 'Net income',\n",
       "     'value': '$24.1 billion',\n",
       "     'comparison': 'increased 10% year-over-year',\n",
       "     'sentiment': 'positive'},\n",
       "    {'metric_name': 'Diluted earnings per share',\n",
       "     'value': '$3.23',\n",
       "     'comparison': 'increased 10% year-over-year',\n",
       "     'sentiment': 'positive'},\n",
       "    {'metric_name': 'AI business revenue run rate',\n",
       "     'value': '$13 billion',\n",
       "     'comparison': 'up 175% year-over-year',\n",
       "     'sentiment': 'positive'},\n",
       "    {'metric_name': 'Microsoft Cloud revenue',\n",
       "     'value': '$40.9 billion',\n",
       "     'comparison': 'up 21% year-over-year',\n",
       "     'sentiment': 'positive'},\n",
       "    {'metric_name': 'Productivity and Business Processes revenue',\n",
       "     'value': '$29.4 billion',\n",
       "     'comparison': 'increased 14% year-over-year',\n",
       "     'sentiment': 'positive'},\n",
       "    {'metric_name': 'Intelligent Cloud revenue',\n",
       "     'value': '$25.5 billion',\n",
       "     'comparison': 'increased 19% year-over-year',\n",
       "     'sentiment': 'positive'},\n",
       "    {'metric_name': 'More Personal Computing revenue',\n",
       "     'value': '$14.7 billion',\n",
       "     'comparison': 'relatively unchanged',\n",
       "     'sentiment': 'neutral'}],\n",
       "   'analyst_opinions': [],\n",
       "   'business_developments': [{'event_type': 'Quarterly Results Announcement',\n",
       "     'description': 'Microsoft announced its Q2 FY25 results, highlighting strong growth in cloud and AI sectors.',\n",
       "     'expected_impact': 'Positive impact on stock performance due to strong financial results and growth in AI revenue.',\n",
       "     'timeline': 'January 29, 2025'}],\n",
       "   'market_sentiment': {'overall_sentiment': 'bullish',\n",
       "    'trading_volume': 'not specified',\n",
       "    'price_movement': 'not specified',\n",
       "    'volatility': 'not specified'},\n",
       "   'risk_factors': []},\n",
       "  'summary': \"### Key Investment Insights for Microsoft Corporation (MSFT) - Short-Term Investor Focus (3-Month Horizon)\\n\\n1. **Recent Financial Results:**\\n   - **Revenue:** $69.6 billion, up 12% year-over-year.\\n   - **Operating Income:** $31.7 billion, up 17% (16% in constant currency).\\n   - **Net Income:** $24.1 billion, up 10%.\\n   - **Earnings Per Share (EPS):** $3.23, up 10%.\\n   - **AI Business Growth:** Surpassed an annual revenue run rate of $13 billion, up 175% year-over-year.\\n   - **Cloud Revenue:** $40.9 billion, up 21% year-over-year.\\n\\n2. **Analyst Ratings and Price Targets:**\\n   - The article does not provide specific analyst ratings or price targets. Investors should check recent analyst reports for updated ratings and price targets based on the latest earnings results.\\n\\n3. **Business Developments and News:**\\n   - Continued innovation in AI and cloud services is a key focus, with significant growth in Microsoft 365 and Azure.\\n   - The company is balancing operational discipline with investments in cloud and AI infrastructure, indicating a strategic focus on long-term growth.\\n\\n4. **Market Sentiment and Trading Patterns:**\\n   - The strong financial results and growth in AI and cloud services may lead to positive market sentiment.\\n   - Investors should monitor trading volumes and price movements following the earnings release for indications of market reaction.\\n\\n5. **Key Risk Factors:**\\n   - Potential risks include market competition in cloud services and AI, economic downturns affecting enterprise spending, and regulatory challenges.\\n   - The relatively flat revenue in the More Personal Computing segment may indicate potential weaknesses in that area, which could impact overall growth.\\n\\n### Conclusion:\\nMicrosoft's strong financial performance, particularly in cloud and AI, positions it well for short-term growth. However, investors should remain vigilant about market sentiment and potential risks that could affect stock performance in the coming months.\"}]"
      ]
     },
     "execution_count": 8,
     "metadata": {},
     "output_type": "execute_result"
    }
   ],
   "source": [
    "extracted_insights"
   ]
  },
  {
   "cell_type": "code",
   "execution_count": 9,
   "metadata": {},
   "outputs": [],
   "source": [
    "\n",
    "# Format scores\n",
    "scores_text = f\"\"\"\n",
    "Financial Health: {score.financial_health_score}/10 - {score.reasoning.get('financial_health_score', '')}\n",
    "Growth Potential: {score.growth_potential_score}/10 - {score.reasoning.get('growth_potential_score', '')}\n",
    "Analyst Sentiment: {score.analyst_sentiment_score}/10 - {score.reasoning.get('analyst_sentiment_score', '')}\n",
    "Momentum: {score.momentum_score}/10 - {score.reasoning.get('momentum_score', '')}\n",
    "Risk Level: {score.risk_score}/10 - {score.reasoning.get('risk_score', '')}\n",
    "\n",
    "OVERALL SCORE: {score.overall_score}/100\n",
    "RECOMMENDATION: {score.investment_recommendation}\n",
    "CONFIDENCE: {score.confidence_level}\n",
    "\"\"\"\n"
   ]
  },
  {
   "cell_type": "code",
   "execution_count": 10,
   "metadata": {},
   "outputs": [
    {
     "data": {
      "text/plain": [
       "\"INSIGHT 1:\\nBased on the provided article about Microsoft Corporation (MSFT), here are the key investment insights for a short-term investor (3-month horizon):\\n\\n1. **Recent Financial Results**: The article does not provide specific financial results, but investors should look for Microsoft's latest earnings report, focusing on revenue growth, profit margins, and guidance for future quarters.\\n\\n2. **Analyst Ratings and Price Targets**: The article lacks specific analyst ratings and price targets. Investors should check recent analyst reports for any upgrades or downgrades, as well as consensus price targets that could indicate potential upside or downside.\\n\\n3. **Business Developments and News**: The article does not mention any recent business developments or news. Investors should stay updated on any product launches, partnerships, or acquisitions that could impact Microsoft's market position and stock performance.\\n\\n4. **Market Sentiment and Trading Patterns**: The article does not provide insights into current market sentiment or trading patterns. Investors should monitor trading volume, stock price trends, and overall market conditions to gauge investor sentiment towards MSFT.\\n\\n5. **Key Risk Factors**: The article does not outline specific risk factors. However, investors should consider potential risks such as regulatory challenges, competition in the tech sector, and macroeconomic factors that could affect Microsoft's performance.\\n\\nIn summary, while the article lacks detailed information, short-term investors should focus on recent earnings, analyst opinions, business developments, market sentiment, and potential risks when making investment decisions regarding MSFT.\\n\\nINSIGHT 2:\\n### Key Investment Insights for Microsoft Corporation (MSFT) - Short-Term Investor Focus (3-Month Horizon)\\n\\n1. **Recent Financial Results:**\\n   - **Revenue:** $69.6 billion, up 12% year-over-year.\\n   - **Operating Income:** $31.7 billion, up 17% (16% in constant currency).\\n   - **Net Income:** $24.1 billion, up 10%.\\n   - **Earnings Per Share (EPS):** $3.23, up 10%.\\n   - **AI Business Growth:** Surpassed an annual revenue run rate of $13 billion, up 175% year-over-year.\\n   - **Cloud Revenue:** $40.9 billion, up 21% year-over-year.\\n\\n2. **Analyst Ratings and Price Targets:**\\n   - The article does not provide specific analyst ratings or price targets. Investors should check recent analyst reports for updated ratings and price targets based on the latest earnings results.\\n\\n3. **Business Developments and News:**\\n   - Continued innovation in AI and cloud services is a key focus, with significant growth in Microsoft 365 and Azure.\\n   - The company is balancing operational discipline with investments in cloud and AI infrastructure, indicating a strategic focus on long-term growth.\\n\\n4. **Market Sentiment and Trading Patterns:**\\n   - The strong financial results and growth in AI and cloud services may lead to positive market sentiment.\\n   - Investors should monitor trading volumes and price movements following the earnings release for indications of market reaction.\\n\\n5. **Key Risk Factors:**\\n   - Potential risks include market competition in cloud services and AI, economic downturns affecting enterprise spending, and regulatory challenges.\\n   - The relatively flat revenue in the More Personal Computing segment may indicate potential weaknesses in that area, which could impact overall growth.\\n\\n### Conclusion:\\nMicrosoft's strong financial performance, particularly in cloud and AI, positions it well for short-term growth. However, investors should remain vigilant about market sentiment and potential risks that could affect stock performance in the coming months.\\n\\n\""
      ]
     },
     "execution_count": 10,
     "metadata": {},
     "output_type": "execute_result"
    }
   ],
   "source": [
    "\n",
    "# Extract key insights from each article\n",
    "key_insights = \"\"\n",
    "for i, insight in enumerate(extracted_insights[:3], 1):  # Use up to 3 articles\n",
    "    key_insights += f\"INSIGHT {i}:\\n{insight['summary']}\\n\\n\"\n",
    "key_insights"
   ]
  },
  {
   "cell_type": "code",
   "execution_count": 19,
   "metadata": {},
   "outputs": [
    {
     "data": {
      "text/plain": [
       "AIMessage(content=\"### Investment Recommendation for Microsoft Corporation (MSFT)\\n\\n#### Investment Thesis\\nMicrosoft Corporation (MSFT) presents a compelling short-term investment opportunity driven by its robust financial health, significant growth potential, and positive market momentum. The company has demonstrated impressive revenue growth of 12% year-over-year, with notable contributions from its AI and cloud services segments, which are expanding at rates of 175% and 21%, respectively. This strong performance not only underscores Microsoft's competitive positioning in the tech sector but also reflects its ability to innovate and adapt to changing market demands. The overall positive sentiment among analysts, despite some risks, supports a favorable outlook for MSFT in the near term.\\n\\nIn addition to its strong financial results, Microsoft is strategically investing in its cloud and AI infrastructure, which positions it well for sustained growth. The company's focus on operational discipline while pursuing innovation indicates a balanced approach that could yield significant returns for investors. With a current overall score of 76/100 and a high confidence level in the recommendation to buy, MSFT is well-positioned to capitalize on its growth trajectory over the next three months.\\n\\n#### Key Supporting Factors\\n- **Strong Financial Performance**: Revenue of $69.6 billion (up 12% YoY), operating income of $31.7 billion (up 17%), and net income of $24.1 billion (up 10%).\\n- **High Growth Potential**: AI business growth at 175% YoY and cloud revenue growth at 21% YoY, indicating strong demand and market expansion.\\n- **Positive Analyst Sentiment**: While specific ratings are not provided, the overall market sentiment is favorable, suggesting potential for upward price movement.\\n- **Momentum in Trading**: Bullish market sentiment following strong earnings and growth in key areas, indicating positive trading momentum.\\n- **Strategic Investments**: Continued focus on innovation in AI and cloud services, which are critical for long-term growth.\\n\\n#### Potential Risks\\n- **Competition**: Intense competition in the tech sector, particularly in cloud services and AI, could impact market share and profitability.\\n- **Economic Downturns**: Potential economic challenges may affect enterprise spending, which could lead to slower growth in revenue.\\n- **Regulatory Challenges**: Ongoing scrutiny and regulatory challenges in the tech industry could pose risks to operational flexibility and growth.\\n- **Flat Revenue in Personal Computing**: The stagnation in the More Personal Computing segment may indicate vulnerabilities that could affect overall growth.\\n\\n#### Suggested Entry Points or Conditions\\n- **Entry Point**: Consider entering the position if MSFT dips to around $330, which would provide a favorable risk-reward ratio given the current momentum and growth prospects.\\n- **Market Conditions**: Look for positive market sentiment following earnings reports or significant news related to AI and cloud services that could drive stock prices higher.\\n\\n#### Suggested Exit Strategy or Price Targets\\n- **Short-Term Price Target**: Set an initial price target of $360, which reflects a reasonable upside based on current momentum and growth projections.\\n- **Exit Strategy**: If the stock reaches the target price or if there are signs of weakening momentum or negative news impacting the tech sector, consider taking profits or reevaluating the position.\\n\\n#### Timeline Considerations\\n- **Investment Horizon**: Focus on a 3-month investment horizon, aligning with the anticipated growth trajectory and market conditions.\\n- **Monitoring Period**: Regularly review financial results, analyst ratings, and market sentiment to adjust the strategy as needed. Key earnings reports and product announcements should be closely monitored for potential impacts on stock performance.\\n\\nIn summary, Microsoft Corporation (MSFT) is well-positioned for short-term growth, making it a strong buy for investors looking to capitalize on its financial strength and market momentum. However, it is essential to remain vigilant about potential risks and market conditions that could influence stock performance.\", additional_kwargs={'refusal': None}, response_metadata={'token_usage': {'completion_tokens': 777, 'prompt_tokens': 1014, 'total_tokens': 1791, 'completion_tokens_details': {'accepted_prediction_tokens': 0, 'audio_tokens': 0, 'reasoning_tokens': 0, 'rejected_prediction_tokens': 0}, 'prompt_tokens_details': {'audio_tokens': 0, 'cached_tokens': 0}}, 'model_name': 'gpt-4o-mini-2024-07-18', 'system_fingerprint': 'fp_b376dfbbd5', 'id': 'chatcmpl-BIyLnGtRqSw7yEQK4J61U4VjkGf4K', 'finish_reason': 'stop', 'logprobs': None}, id='run-7cb26fef-a36b-4881-8049-2b3adfc95b5c-0', usage_metadata={'input_tokens': 1014, 'output_tokens': 777, 'total_tokens': 1791, 'input_token_details': {'audio': 0, 'cache_read': 0}, 'output_token_details': {'audio': 0, 'reasoning': 0}})"
      ]
     },
     "execution_count": 19,
     "metadata": {},
     "output_type": "execute_result"
    }
   ],
   "source": [
    "\n",
    "# Generate recommendation\n",
    "result = recommendation_chain.invoke({\n",
    "    \"ticker\": ticker,\n",
    "    \"company_name\": company_name,\n",
    "    \"scores\": scores_text,\n",
    "    \"key_insights\": key_insights\n",
    "})\n",
    "result"
   ]
  },
  {
   "cell_type": "code",
   "execution_count": 20,
   "metadata": {},
   "outputs": [
    {
     "name": "stdout",
     "output_type": "stream",
     "text": [
      "Recommendation for MSFT:\n",
      "### Investment Recommendation for Microsoft Corporation (MSFT)\n",
      "\n",
      "#### Investment Thesis\n",
      "Microsoft Corporation (MSFT) presents a compelling short-term investment opportunity driven by its robust financial health, significant growth potential, and positive market momentum. The company has demonstrated impressive revenue growth of 12% year-over-year, with notable contributions from its AI and cloud services segments, which are expanding at rates of 175% and 21%, respectively. This strong performance not only underscores Microsoft's competitive positioning in the tech sector but also reflects its ability to innovate and adapt to changing market demands. The overall positive sentiment among analysts, despite some risks, supports a favorable outlook for MSFT in the near term.\n",
      "\n",
      "In addition to its strong financial results, Microsoft is strategically investing in its cloud and AI infrastructure, which positions it well for sustained growth. The company's focus on operational discipline while pursuing innovation indicates a balanced approach that could yield significant returns for investors. With a current overall score of 76/100 and a high confidence level in the recommendation to buy, MSFT is well-positioned to capitalize on its growth trajectory over the next three months.\n",
      "\n",
      "#### Key Supporting Factors\n",
      "- **Strong Financial Performance**: Revenue of $69.6 billion (up 12% YoY), operating income of $31.7 billion (up 17%), and net income of $24.1 billion (up 10%).\n",
      "- **High Growth Potential**: AI business growth at 175% YoY and cloud revenue growth at 21% YoY, indicating strong demand and market expansion.\n",
      "- **Positive Analyst Sentiment**: While specific ratings are not provided, the overall market sentiment is favorable, suggesting potential for upward price movement.\n",
      "- **Momentum in Trading**: Bullish market sentiment following strong earnings and growth in key areas, indicating positive trading momentum.\n",
      "- **Strategic Investments**: Continued focus on innovation in AI and cloud services, which are critical for long-term growth.\n",
      "\n",
      "#### Potential Risks\n",
      "- **Competition**: Intense competition in the tech sector, particularly in cloud services and AI, could impact market share and profitability.\n",
      "- **Economic Downturns**: Potential economic challenges may affect enterprise spending, which could lead to slower growth in revenue.\n",
      "- **Regulatory Challenges**: Ongoing scrutiny and regulatory challenges in the tech industry could pose risks to operational flexibility and growth.\n",
      "- **Flat Revenue in Personal Computing**: The stagnation in the More Personal Computing segment may indicate vulnerabilities that could affect overall growth.\n",
      "\n",
      "#### Suggested Entry Points or Conditions\n",
      "- **Entry Point**: Consider entering the position if MSFT dips to around $330, which would provide a favorable risk-reward ratio given the current momentum and growth prospects.\n",
      "- **Market Conditions**: Look for positive market sentiment following earnings reports or significant news related to AI and cloud services that could drive stock prices higher.\n",
      "\n",
      "#### Suggested Exit Strategy or Price Targets\n",
      "- **Short-Term Price Target**: Set an initial price target of $360, which reflects a reasonable upside based on current momentum and growth projections.\n",
      "- **Exit Strategy**: If the stock reaches the target price or if there are signs of weakening momentum or negative news impacting the tech sector, consider taking profits or reevaluating the position.\n",
      "\n",
      "#### Timeline Considerations\n",
      "- **Investment Horizon**: Focus on a 3-month investment horizon, aligning with the anticipated growth trajectory and market conditions.\n",
      "- **Monitoring Period**: Regularly review financial results, analyst ratings, and market sentiment to adjust the strategy as needed. Key earnings reports and product announcements should be closely monitored for potential impacts on stock performance.\n",
      "\n",
      "In summary, Microsoft Corporation (MSFT) is well-positioned for short-term growth, making it a strong buy for investors looking to capitalize on its financial strength and market momentum. However, it is essential to remain vigilant about potential risks and market conditions that could influence stock performance.\n"
     ]
    }
   ],
   "source": [
    "\n",
    "recommendation_results = {\n",
    "    \"ticker\": ticker,\n",
    "    \"company_name\": company_name,\n",
    "    \"recommendation\": result.content,  \n",
    "    \"score\": score\n",
    "}\n",
    "\n",
    "\n",
    "print(f\"Recommendation for {recommendation_results['ticker']}:\")\n",
    "print(recommendation_results['recommendation'])"
   ]
  },
  {
   "cell_type": "code",
   "execution_count": 23,
   "metadata": {},
   "outputs": [
    {
     "data": {
      "text/plain": [
       "76"
      ]
     },
     "execution_count": 23,
     "metadata": {},
     "output_type": "execute_result"
    }
   ],
   "source": [
    "recommendation_results['score'].overall_score"
   ]
  },
  {
   "cell_type": "code",
   "execution_count": null,
   "metadata": {},
   "outputs": [],
   "source": []
  }
 ],
 "metadata": {
  "kernelspec": {
   "display_name": "stock-sage-ai",
   "language": "python",
   "name": "python3"
  },
  "language_info": {
   "codemirror_mode": {
    "name": "ipython",
    "version": 3
   },
   "file_extension": ".py",
   "mimetype": "text/x-python",
   "name": "python",
   "nbconvert_exporter": "python",
   "pygments_lexer": "ipython3",
   "version": "3.10.8"
  }
 },
 "nbformat": 4,
 "nbformat_minor": 2
}
