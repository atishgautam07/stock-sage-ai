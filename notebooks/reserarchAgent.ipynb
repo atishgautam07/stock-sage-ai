{
 "cells": [
  {
   "cell_type": "code",
   "execution_count": 1,
   "metadata": {},
   "outputs": [],
   "source": [
    "from langchain_openai import ChatOpenAI\n",
    "from langchain.tools import TavilySearchResults\n",
    "from langchain.agents import AgentExecutor, create_openai_functions_agent\n",
    "from langchain.prompts import ChatPromptTemplate\n",
    "import os\n",
    "from dotenv import load_dotenv"
   ]
  },
  {
   "cell_type": "code",
   "execution_count": 2,
   "metadata": {},
   "outputs": [],
   "source": [
    "load_dotenv()\n",
    "\n",
    "# Set up configuration\n",
    "OPENAI_API_KEY = os.getenv(\"OPENAI_API_KEY\")\n",
    "TAVILY_API_KEY = os.getenv(\"TAVILY_API_KEY\")\n",
    "LLM_MODEL = \"gpt-4o-mini\"\n",
    "MAX_SEARCH_RESULTS = 3\n",
    "\n",
    "# Set API keys\n",
    "os.environ[\"OPENAI_API_KEY\"] = OPENAI_API_KEY\n",
    "os.environ[\"TAVILY_API_KEY\"] = TAVILY_API_KEY"
   ]
  },
  {
   "cell_type": "code",
   "execution_count": 3,
   "metadata": {},
   "outputs": [],
   "source": [
    "search_tool = TavilySearchResults(max_results=MAX_SEARCH_RESULTS)\n",
    "\n",
    "llm = ChatOpenAI(temperature=0, model=LLM_MODEL)\n",
    "        \n",
    "system_prompt = \"\"\"\n",
    "You are a financial researcher gathering information about companies for investment analysis.\n",
    "\n",
    "Focus on finding recent and relevant information about the company such as:\n",
    "1. Quarterly financial results and earnings\n",
    "2. Analyst ratings and price targets\n",
    "3. Business developments, product launches, partnerships\n",
    "4. Market trends affecting the company\n",
    "5. Competitive landscape\n",
    "\n",
    "Only consider information relevant for short-term investment decisions (last 3 months).\n",
    "Make sure to search for the most recent information available.\n",
    "\"\"\"\n",
    "\n",
    "prompt = ChatPromptTemplate.from_messages([\n",
    "    (\"system\", system_prompt),\n",
    "    (\"human\", \"Research {ticker} ({company_name}) for short-term investment analysis.\"),\n",
    "    (\"ai\", \"{agent_scratchpad}\")\n",
    "])\n",
    " "
   ]
  },
  {
   "cell_type": "code",
   "execution_count": 4,
   "metadata": {},
   "outputs": [
    {
     "data": {
      "text/plain": [
       "RunnableAssign(mapper={\n",
       "  agent_scratchpad: RunnableLambda(lambda x: format_to_openai_function_messages(x['intermediate_steps']))\n",
       "})\n",
       "| ChatPromptTemplate(input_variables=['agent_scratchpad', 'company_name', 'ticker'], input_types={}, partial_variables={}, messages=[SystemMessagePromptTemplate(prompt=PromptTemplate(input_variables=[], input_types={}, partial_variables={}, template='\\nYou are a financial researcher gathering information about companies for investment analysis.\\n\\nFocus on finding recent and relevant information about the company such as:\\n1. Quarterly financial results and earnings\\n2. Analyst ratings and price targets\\n3. Business developments, product launches, partnerships\\n4. Market trends affecting the company\\n5. Competitive landscape\\n\\nOnly consider information relevant for short-term investment decisions (last 3 months).\\nMake sure to search for the most recent information available.\\n'), additional_kwargs={}), HumanMessagePromptTemplate(prompt=PromptTemplate(input_variables=['company_name', 'ticker'], input_types={}, partial_variables={}, template='Research {ticker} ({company_name}) for short-term investment analysis.'), additional_kwargs={}), AIMessagePromptTemplate(prompt=PromptTemplate(input_variables=['agent_scratchpad'], input_types={}, partial_variables={}, template='{agent_scratchpad}'), additional_kwargs={})])\n",
       "| RunnableBinding(bound=ChatOpenAI(client=<openai.resources.chat.completions.completions.Completions object at 0x10a6d4d90>, async_client=<openai.resources.chat.completions.completions.AsyncCompletions object at 0x10a6d76a0>, root_client=<openai.OpenAI object at 0x10378fc70>, root_async_client=<openai.AsyncOpenAI object at 0x10a6d4e20>, model_name='gpt-4o-mini', temperature=0.0, model_kwargs={}, openai_api_key=SecretStr('**********')), kwargs={'functions': [{'name': 'tavily_search_results_json', 'description': 'A search engine optimized for comprehensive, accurate, and trusted results. Useful for when you need to answer questions about current events. Input should be a search query.', 'parameters': {'properties': {'query': {'description': 'search query to look up', 'type': 'string'}}, 'required': ['query'], 'type': 'object'}}]}, config={}, config_factories=[])\n",
       "| OpenAIFunctionsAgentOutputParser()"
      ]
     },
     "execution_count": 4,
     "metadata": {},
     "output_type": "execute_result"
    }
   ],
   "source": [
    "      \n",
    "agent = create_openai_functions_agent(\n",
    "    llm=llm,\n",
    "    tools=[search_tool],\n",
    "    prompt=prompt\n",
    ")\n",
    "agent\n"
   ]
  },
  {
   "cell_type": "code",
   "execution_count": 5,
   "metadata": {},
   "outputs": [
    {
     "data": {
      "text/plain": [
       "AgentExecutor(verbose=True, agent=RunnableAgent(runnable=RunnableAssign(mapper={\n",
       "  agent_scratchpad: RunnableLambda(lambda x: format_to_openai_function_messages(x['intermediate_steps']))\n",
       "})\n",
       "| ChatPromptTemplate(input_variables=['agent_scratchpad', 'company_name', 'ticker'], input_types={}, partial_variables={}, messages=[SystemMessagePromptTemplate(prompt=PromptTemplate(input_variables=[], input_types={}, partial_variables={}, template='\\nYou are a financial researcher gathering information about companies for investment analysis.\\n\\nFocus on finding recent and relevant information about the company such as:\\n1. Quarterly financial results and earnings\\n2. Analyst ratings and price targets\\n3. Business developments, product launches, partnerships\\n4. Market trends affecting the company\\n5. Competitive landscape\\n\\nOnly consider information relevant for short-term investment decisions (last 3 months).\\nMake sure to search for the most recent information available.\\n'), additional_kwargs={}), HumanMessagePromptTemplate(prompt=PromptTemplate(input_variables=['company_name', 'ticker'], input_types={}, partial_variables={}, template='Research {ticker} ({company_name}) for short-term investment analysis.'), additional_kwargs={}), AIMessagePromptTemplate(prompt=PromptTemplate(input_variables=['agent_scratchpad'], input_types={}, partial_variables={}, template='{agent_scratchpad}'), additional_kwargs={})])\n",
       "| RunnableBinding(bound=ChatOpenAI(client=<openai.resources.chat.completions.completions.Completions object at 0x10a6d4d90>, async_client=<openai.resources.chat.completions.completions.AsyncCompletions object at 0x10a6d76a0>, root_client=<openai.OpenAI object at 0x10378fc70>, root_async_client=<openai.AsyncOpenAI object at 0x10a6d4e20>, model_name='gpt-4o-mini', temperature=0.0, model_kwargs={}, openai_api_key=SecretStr('**********')), kwargs={'functions': [{'name': 'tavily_search_results_json', 'description': 'A search engine optimized for comprehensive, accurate, and trusted results. Useful for when you need to answer questions about current events. Input should be a search query.', 'parameters': {'properties': {'query': {'description': 'search query to look up', 'type': 'string'}}, 'required': ['query'], 'type': 'object'}}]}, config={}, config_factories=[])\n",
       "| OpenAIFunctionsAgentOutputParser(), input_keys_arg=[], return_keys_arg=[], stream_runnable=True), tools=[TavilySearchResults(max_results=3, api_wrapper=TavilySearchAPIWrapper(tavily_api_key=SecretStr('**********')))], handle_parsing_errors=True)"
      ]
     },
     "execution_count": 5,
     "metadata": {},
     "output_type": "execute_result"
    }
   ],
   "source": [
    "\n",
    "agent_executor = AgentExecutor(\n",
    "    agent=agent,\n",
    "    tools=[search_tool],\n",
    "    verbose=True,\n",
    "    handle_parsing_errors=True\n",
    ")\n",
    "agent_executor"
   ]
  },
  {
   "cell_type": "code",
   "execution_count": 8,
   "metadata": {},
   "outputs": [
    {
     "name": "stdout",
     "output_type": "stream",
     "text": [
      "\n",
      "\n",
      "\u001b[1m> Entering new AgentExecutor chain...\u001b[0m\n",
      "\u001b[32;1m\u001b[1;3m\n",
      "Invoking: `tavily_search_results_json` with `{'query': 'AAPL Apple quarterly financial results earnings analyst ratings price targets business developments product launches partnerships market trends competitive landscape October 2023'}`\n",
      "\n",
      "\n",
      "\u001b[0m\u001b[36;1m\u001b[1;3m[{'title': 'aapl-20230930 - SEC.gov', 'url': 'https://www.sec.gov/Archives/edgar/data/320193/000032019323000106/aapl-20230930.htm', 'content': 'Americas:                 \\nNet sales   $   162,560\\xa0            $   169,658\\xa0            $   153,306\\xa0  \\nOperating income    $   60,508\\xa0         $   62,683\\xa0         $   53,382\\xa0 \\nEurope:               \\nNet sales   $   94,294\\xa0         $   95,118\\xa0         $   89,307\\xa0 \\nOperating income    $   36,098\\xa0         $   35,233\\xa0         $   32,505\\xa0 \\nGreater China:                \\nNet sales   $   72,559\\xa0         $   74,200\\xa0         $   68,366 [...] Gross margin:                 \\nProducts    $   108,803\\xa0            $   114,728\\xa0            $   105,126\\xa0  \\nServices    60,345\\xa0         56,054\\xa0         47,710\\xa0 \\nTotal gross margin  $   169,148\\xa0            $   170,782\\xa0            $   152,836\\xa0    \\nGross margin percentage:                  \\nProducts    36.5\\xa0   %       36.3\\xa0   %       35.3\\xa0   %\\nServices    70.8\\xa0   %       71.7\\xa0   %       69.7\\xa0   %\\nTotal gross margin percentage   44.1\\xa0   %       43.3\\xa0   %       41.8\\xa0   %\\nProducts Gross Margin [...] Operating income    $   30,328\\xa0         $   31,153\\xa0         $   28,504\\xa0 \\nJapan:                \\nNet sales   $   24,257\\xa0         $   25,977\\xa0         $   28,482\\xa0 \\nOperating income    $   11,888\\xa0         $   12,257\\xa0         $   12,798\\xa0 \\nRest of Asia Pacific:                 \\nNet sales   $   29,615\\xa0         $   29,375\\xa0         $   26,356\\xa0 \\nOperating income    $   12,066\\xa0         $   11,569\\xa0         $   9,817', 'score': 0.7750779}, {'title': 'Apple Inc. (AAPL) Analyst Ratings, Estimates & Forecasts', 'url': 'https://finance.yahoo.com/quote/AAPL/analysis/', 'content': \"Research Analysis\\nEarnings Per Share\\n+1.61 Estimate\\n\\nRevenue vs. Earnings\\nRevenue 94.93B\\nEarnings 14.74B\\nQ4'23\\nQ1'24\\nQ2'24\\nQ3'24\\n0\\n20B\\n40B\\n60B\\n80B\\n100B\\n\\nAnalyst Recommendations\\n\\n\\nStrong Buy\\n\\n\\nBuy\\n\\n\\nHold\\n\\n\\nUnderperform\\n\\n\\nSell\", 'score': 0.7434107}]\u001b[0m\u001b[32;1m\u001b[1;3mHere is the recent information on Apple Inc. (AAPL) relevant for short-term investment analysis:\n",
      "\n",
      "### 1. Quarterly Financial Results and Earnings\n",
      "- **Q4 2023 Results**: \n",
      "  - **Net Sales**: $94.93 billion\n",
      "  - **Earnings**: $14.74 billion\n",
      "  - **Gross Margin**: 44.1% (up from 43.3% in Q3 2023)\n",
      "  - **Operating Income**: $30.33 billion\n",
      "  - **Regional Performance**:\n",
      "    - **Americas**: Net sales of $162.56 billion\n",
      "    - **Europe**: Net sales of $94.29 billion\n",
      "    - **Greater China**: Net sales of $72.56 billion\n",
      "    - **Japan**: Net sales of $24.26 billion\n",
      "    - **Rest of Asia Pacific**: Net sales of $29.62 billion\n",
      "  - [Source: SEC Filing](https://www.sec.gov/Archives/edgar/data/320193/000032019323000106/aapl-20230930.htm)\n",
      "\n",
      "### 2. Analyst Ratings and Price Targets\n",
      "- **Earnings Per Share Estimate**: $1.61\n",
      "- **Analyst Recommendations**:\n",
      "  - Strong Buy: Majority of analysts recommend a strong buy.\n",
      "  - Buy: Several analysts suggest buying.\n",
      "  - Hold: A few analysts recommend holding.\n",
      "  - Underperform/Sell: Very few analysts suggest underperforming or selling.\n",
      "- [Source: Yahoo Finance](https://finance.yahoo.com/quote/AAPL/analysis/)\n",
      "\n",
      "### 3. Business Developments, Product Launches, Partnerships\n",
      "- Recent product launches and developments have not been detailed in the latest reports, but Apple typically announces new products in September, which may include updates to the iPhone and other devices.\n",
      "\n",
      "### 4. Market Trends Affecting the Company\n",
      "- Apple continues to face challenges in the global supply chain and competition in the smartphone market, particularly from companies like Samsung and emerging Chinese brands. However, the demand for services and wearables remains strong, contributing positively to revenue.\n",
      "\n",
      "### 5. Competitive Landscape\n",
      "- Apple remains a leader in the premium smartphone market, but competition is intensifying, especially in the mid-range segment. The company's focus on services (like Apple Music, iCloud, and Apple TV+) is a strategic move to diversify revenue streams beyond hardware sales.\n",
      "\n",
      "### Summary\n",
      "Apple's recent financial performance shows strong revenue and earnings, with a healthy gross margin. Analyst sentiment is largely positive, indicating confidence in the company's short-term prospects. However, investors should keep an eye on market trends and competitive pressures that could impact future performance.\u001b[0m\n",
      "\n",
      "\u001b[1m> Finished chain.\u001b[0m\n"
     ]
    },
    {
     "data": {
      "text/plain": [
       "{'ticker': 'AAPL',\n",
       " 'company_name': 'Apple',\n",
       " 'output': \"Here is the recent information on Apple Inc. (AAPL) relevant for short-term investment analysis:\\n\\n### 1. Quarterly Financial Results and Earnings\\n- **Q4 2023 Results**: \\n  - **Net Sales**: $94.93 billion\\n  - **Earnings**: $14.74 billion\\n  - **Gross Margin**: 44.1% (up from 43.3% in Q3 2023)\\n  - **Operating Income**: $30.33 billion\\n  - **Regional Performance**:\\n    - **Americas**: Net sales of $162.56 billion\\n    - **Europe**: Net sales of $94.29 billion\\n    - **Greater China**: Net sales of $72.56 billion\\n    - **Japan**: Net sales of $24.26 billion\\n    - **Rest of Asia Pacific**: Net sales of $29.62 billion\\n  - [Source: SEC Filing](https://www.sec.gov/Archives/edgar/data/320193/000032019323000106/aapl-20230930.htm)\\n\\n### 2. Analyst Ratings and Price Targets\\n- **Earnings Per Share Estimate**: $1.61\\n- **Analyst Recommendations**:\\n  - Strong Buy: Majority of analysts recommend a strong buy.\\n  - Buy: Several analysts suggest buying.\\n  - Hold: A few analysts recommend holding.\\n  - Underperform/Sell: Very few analysts suggest underperforming or selling.\\n- [Source: Yahoo Finance](https://finance.yahoo.com/quote/AAPL/analysis/)\\n\\n### 3. Business Developments, Product Launches, Partnerships\\n- Recent product launches and developments have not been detailed in the latest reports, but Apple typically announces new products in September, which may include updates to the iPhone and other devices.\\n\\n### 4. Market Trends Affecting the Company\\n- Apple continues to face challenges in the global supply chain and competition in the smartphone market, particularly from companies like Samsung and emerging Chinese brands. However, the demand for services and wearables remains strong, contributing positively to revenue.\\n\\n### 5. Competitive Landscape\\n- Apple remains a leader in the premium smartphone market, but competition is intensifying, especially in the mid-range segment. The company's focus on services (like Apple Music, iCloud, and Apple TV+) is a strategic move to diversify revenue streams beyond hardware sales.\\n\\n### Summary\\nApple's recent financial performance shows strong revenue and earnings, with a healthy gross margin. Analyst sentiment is largely positive, indicating confidence in the company's short-term prospects. However, investors should keep an eye on market trends and competitive pressures that could impact future performance.\"}"
      ]
     },
     "execution_count": 8,
     "metadata": {},
     "output_type": "execute_result"
    }
   ],
   "source": [
    "result = agent_executor.invoke({\n",
    "        \"ticker\": \"AAPL\",\n",
    "        \"company_name\": \"Apple\"\n",
    "    })\n",
    "result"
   ]
  },
  {
   "cell_type": "code",
   "execution_count": 6,
   "metadata": {},
   "outputs": [
    {
     "name": "stdout",
     "output_type": "stream",
     "text": [
      "\n",
      "\n",
      "\u001b[1m> Entering new AgentExecutor chain...\u001b[0m\n",
      "\u001b[32;1m\u001b[1;3m\n",
      "Invoking: `tavily_search_results_json` with `{'query': 'Microsoft Corporation MSFT recent quarterly results earnings analyst ratings business developments market trends competitive landscape'}`\n",
      "\n",
      "\n",
      "\u001b[0m\u001b[36;1m\u001b[1;3m[{'title': 'Microsoft Corporation (MSFT) Analyst Ratings, Estimates & Forecasts', 'url': 'https://finance.yahoo.com/quote/MSFT/analysis/', 'content': '| Currency in USD | Current Qtr. (Mar 2025) | Next Qtr. (Jun 2025) | Current Year (2025) | Next Year (2026) |\\n| --- | --- | --- | --- | --- |\\n| No. of Analysts | 32 | 31 | 55 | 54 |\\n| Avg. Estimate | 68.46B | 72.68B | 277.27B | 315.96B |\\n| Low Estimate | 67.14B | 71.47B | 274.86B | 304.21B |\\n| High Estimate | 69.36B | 74.63B | 283.15B | 341.76B |\\n| Year Ago Sales | 61.86B | 64.73B | 245.12B | 277.27B |\\n| Sales Growth (year/est) | 10.67% | 12.29% | 13.11% | 13.95% |\\nEarnings History [...] Analyst Price Targets\\n420.00\\n506.80 Average\\n409.75 Current\\n650.00 High\\nEarnings Estimate\\n| Currency in USD | Current Qtr. (Mar 2025) | Next Qtr. (Jun 2025) | Current Year (2025) | Next Year (2026) |\\n| --- | --- | --- | --- | --- |\\n| No. of Analysts | 32 | 32 | 48 | 49 |\\n| Avg. Estimate | 3.21 | 3.33 | 13.16 | 15.07 |\\n| Low Estimate | 3.16 | 3.21 | 12.93 | 14.3 |\\n| High Estimate | 3.31 | 3.57 | 13.75 | 16.69 |\\n| Year Ago EPS | 2.94 | 2.95 | 11.8 | 13.16 |\\nRevenue Estimate [...] | 7 Days Ago | 3.15 | 3.28 | 13.01 | 15.04 |\\n| 30 Days Ago | 3.17 | 3.29 | 13.04 | 15.08 |\\n| 60 Days Ago | 3.17 | 3.3 | 13.07 | 15.1 |\\n| 90 Days Ago | 3.17 | 3.29 | 13.1 | 15.14 |\\nEPS Revisions\\n| Currency in USD | Current Qtr. (Mar 2025) | Next Qtr. (Jun 2025) | Current Year (2025) | Next Year (2026) |\\n| --- | --- | --- | --- | --- |\\n| Up Last 7 Days | 18 | 16 | 24 | 17 |\\n| Up Last 30 Days | 18 | 17 | 25 | 18 |\\n| Down Last 7 Days | 7 | 8 | 8 | 15 |\\n| Down Last 30 Days | 8 | 8 | 8 | 16 |', 'score': 0.85097736}, {'title': 'Earnings Release FY25 Q2 - Investor Relations - Microsoft', 'url': 'https://www.microsoft.com/en-us/Investor/earnings/FY-2025-Q2/press-release-webcast?os=fuzzscanL12tr&ref=app', 'content': 'Global\\n\\nPress Release & Webcast\\n\\nEarnings Release FY25 Q2\\n\\nMicrosoft Cloud and AI Strength\\r\\n            Drives Second Quarter Results\\n\\nREDMOND,\\r\\n            Wash. — January 29, 2025 — Microsoft Corp. today\\r\\n            announced the following results for the quarter ended December 31, 2024, as\\r\\n            compared to the corresponding period of last fiscal year:\\n\\n·\\xa0\\xa0\\xa0\\xa0\\xa0\\xa0\\xa0\\xa0\\r\\n            Revenue was $69.6 billion and increased 12% [...] Revenue in\\r\\n            Intelligent Cloud was $25.5 billion and increased 19%, with the following business\\r\\n            highlights:\\n\\n·\\xa0\\xa0\\xa0\\xa0\\xa0\\xa0\\xa0\\xa0\\r\\n            Server products and cloud services revenue increased 21% driven\\r\\n            by Azure and other cloud services revenue growth of 31%\\n\\nRevenue in\\r\\n            More Personal Computing was $14.7 billion and was relatively unchanged, with\\r\\n            the following business highlights: [...] ·\\xa0\\xa0\\xa0\\xa0\\xa0\\xa0\\xa0\\xa0\\r\\n            Windows OEM and Devices revenue increased 4%\\n\\n·\\xa0\\xa0\\xa0\\xa0\\xa0\\xa0\\xa0\\xa0\\r\\n            Xbox content and services revenue increased 2%\\n\\n·\\xa0\\xa0\\xa0\\xa0\\xa0\\xa0\\xa0\\xa0\\r\\n            Search and news advertising revenue excluding traffic\\r\\n            acquisition costs increased 21% (up 20% in constant currency)\\n\\nMicrosoft\\r\\n            returned $9.7 billion to shareholders in the form of dividends and share\\r\\n            repurchases in the second quarter of fiscal year 2025.\\n\\nBusiness\\r\\n            Outlook', 'score': 0.7286136}, {'title': 'Microsoft Earnings: Solid Quarter as AI Growth Shines - Morningstar', 'url': 'https://www.morningstar.co.uk/uk/news/259984/microsoft-earnings-solid-quarter-as-ai-growth-shines.aspx', 'content': 'For the December quarter, revenue increased 12% year over year to $69.6 billion, compared with the high end of guidance of $69.1 billion.', 'score': 0.71425}]\u001b[0m\u001b[32;1m\u001b[1;3mHere is the recent information on Microsoft Corporation (MSFT) relevant for short-term investment analysis:\n",
      "\n",
      "### 1. Quarterly Financial Results and Earnings\n",
      "- **Q2 FY2025 Results**: Microsoft reported revenue of **$69.6 billion**, a **12% increase** year-over-year. This exceeded the high end of their guidance of $69.1 billion.\n",
      "- **Segment Performance**:\n",
      "  - **Intelligent Cloud**: Revenue was **$25.5 billion**, up **19%**, driven by a **31% growth** in Azure and other cloud services.\n",
      "  - **More Personal Computing**: Revenue was **$14.7 billion**, relatively unchanged, with a **4% increase** in Windows OEM and Devices revenue.\n",
      "  - **Advertising Revenue**: Search and news advertising revenue (excluding traffic acquisition costs) increased by **21%**.\n",
      "- Microsoft returned **$9.7 billion** to shareholders through dividends and share repurchases during this quarter. [Source: Microsoft Earnings Release](https://www.microsoft.com/en-us/Investor/earnings/FY-2025-Q2/press-release-webcast?os=fuzzscanL12tr&ref=app)\n",
      "\n",
      "### 2. Analyst Ratings and Price Targets\n",
      "- **Analyst Consensus**: The average price target for MSFT is **$506.80**, with a current price of **$409.75**. The highest target is **$650.00**.\n",
      "- **Earnings Estimates**: For the current quarter (Mar 2025), the average earnings estimate is **$3.21** per share, with a year-over-year growth from **$2.94**. [Source: Yahoo Finance](https://finance.yahoo.com/quote/MSFT/analysis/)\n",
      "\n",
      "### 3. Business Developments\n",
      "- Microsoft continues to strengthen its position in the cloud and AI sectors, which are key growth areas. The company is focusing on expanding its Azure services and enhancing its AI capabilities, which are driving significant revenue growth.\n",
      "\n",
      "### 4. Market Trends Affecting the Company\n",
      "- The ongoing shift towards cloud computing and AI technologies is benefiting Microsoft, as businesses increasingly adopt these solutions. The demand for cloud services, particularly Azure, is expected to continue growing, which could positively impact Microsoft's revenue in the near term.\n",
      "\n",
      "### 5. Competitive Landscape\n",
      "- Microsoft faces competition from other major tech companies in the cloud and AI space, including Amazon (AWS), Google (Google Cloud), and others. However, Microsoft's strong brand, extensive product offerings, and recent innovations in AI give it a competitive edge.\n",
      "\n",
      "### Conclusion\n",
      "Microsoft's recent earnings report shows solid growth, particularly in its cloud services, which are expected to continue driving revenue. Analyst ratings are positive, with significant upside potential in price targets. The company's focus on AI and cloud computing aligns well with current market trends, making it a potentially strong candidate for short-term investment.\u001b[0m\n",
      "\n",
      "\u001b[1m> Finished chain.\u001b[0m\n",
      "{'ticker': 'MSFT', 'company_name': 'Microsoft Corporation', 'search_results': \"Here is the recent information on Microsoft Corporation (MSFT) relevant for short-term investment analysis:\\n\\n### 1. Quarterly Financial Results and Earnings\\n- **Q2 FY2025 Results**: Microsoft reported revenue of **$69.6 billion**, a **12% increase** year-over-year. This exceeded the high end of their guidance of $69.1 billion.\\n- **Segment Performance**:\\n  - **Intelligent Cloud**: Revenue was **$25.5 billion**, up **19%**, driven by a **31% growth** in Azure and other cloud services.\\n  - **More Personal Computing**: Revenue was **$14.7 billion**, relatively unchanged, with a **4% increase** in Windows OEM and Devices revenue.\\n  - **Advertising Revenue**: Search and news advertising revenue (excluding traffic acquisition costs) increased by **21%**.\\n- Microsoft returned **$9.7 billion** to shareholders through dividends and share repurchases during this quarter. [Source: Microsoft Earnings Release](https://www.microsoft.com/en-us/Investor/earnings/FY-2025-Q2/press-release-webcast?os=fuzzscanL12tr&ref=app)\\n\\n### 2. Analyst Ratings and Price Targets\\n- **Analyst Consensus**: The average price target for MSFT is **$506.80**, with a current price of **$409.75**. The highest target is **$650.00**.\\n- **Earnings Estimates**: For the current quarter (Mar 2025), the average earnings estimate is **$3.21** per share, with a year-over-year growth from **$2.94**. [Source: Yahoo Finance](https://finance.yahoo.com/quote/MSFT/analysis/)\\n\\n### 3. Business Developments\\n- Microsoft continues to strengthen its position in the cloud and AI sectors, which are key growth areas. The company is focusing on expanding its Azure services and enhancing its AI capabilities, which are driving significant revenue growth.\\n\\n### 4. Market Trends Affecting the Company\\n- The ongoing shift towards cloud computing and AI technologies is benefiting Microsoft, as businesses increasingly adopt these solutions. The demand for cloud services, particularly Azure, is expected to continue growing, which could positively impact Microsoft's revenue in the near term.\\n\\n### 5. Competitive Landscape\\n- Microsoft faces competition from other major tech companies in the cloud and AI space, including Amazon (AWS), Google (Google Cloud), and others. However, Microsoft's strong brand, extensive product offerings, and recent innovations in AI give it a competitive edge.\\n\\n### Conclusion\\nMicrosoft's recent earnings report shows solid growth, particularly in its cloud services, which are expected to continue driving revenue. Analyst ratings are positive, with significant upside potential in price targets. The company's focus on AI and cloud computing aligns well with current market trends, making it a potentially strong candidate for short-term investment.\", 'raw_results': {'ticker': 'MSFT', 'company_name': 'Microsoft Corporation', 'output': \"Here is the recent information on Microsoft Corporation (MSFT) relevant for short-term investment analysis:\\n\\n### 1. Quarterly Financial Results and Earnings\\n- **Q2 FY2025 Results**: Microsoft reported revenue of **$69.6 billion**, a **12% increase** year-over-year. This exceeded the high end of their guidance of $69.1 billion.\\n- **Segment Performance**:\\n  - **Intelligent Cloud**: Revenue was **$25.5 billion**, up **19%**, driven by a **31% growth** in Azure and other cloud services.\\n  - **More Personal Computing**: Revenue was **$14.7 billion**, relatively unchanged, with a **4% increase** in Windows OEM and Devices revenue.\\n  - **Advertising Revenue**: Search and news advertising revenue (excluding traffic acquisition costs) increased by **21%**.\\n- Microsoft returned **$9.7 billion** to shareholders through dividends and share repurchases during this quarter. [Source: Microsoft Earnings Release](https://www.microsoft.com/en-us/Investor/earnings/FY-2025-Q2/press-release-webcast?os=fuzzscanL12tr&ref=app)\\n\\n### 2. Analyst Ratings and Price Targets\\n- **Analyst Consensus**: The average price target for MSFT is **$506.80**, with a current price of **$409.75**. The highest target is **$650.00**.\\n- **Earnings Estimates**: For the current quarter (Mar 2025), the average earnings estimate is **$3.21** per share, with a year-over-year growth from **$2.94**. [Source: Yahoo Finance](https://finance.yahoo.com/quote/MSFT/analysis/)\\n\\n### 3. Business Developments\\n- Microsoft continues to strengthen its position in the cloud and AI sectors, which are key growth areas. The company is focusing on expanding its Azure services and enhancing its AI capabilities, which are driving significant revenue growth.\\n\\n### 4. Market Trends Affecting the Company\\n- The ongoing shift towards cloud computing and AI technologies is benefiting Microsoft, as businesses increasingly adopt these solutions. The demand for cloud services, particularly Azure, is expected to continue growing, which could positively impact Microsoft's revenue in the near term.\\n\\n### 5. Competitive Landscape\\n- Microsoft faces competition from other major tech companies in the cloud and AI space, including Amazon (AWS), Google (Google Cloud), and others. However, Microsoft's strong brand, extensive product offerings, and recent innovations in AI give it a competitive edge.\\n\\n### Conclusion\\nMicrosoft's recent earnings report shows solid growth, particularly in its cloud services, which are expected to continue driving revenue. Analyst ratings are positive, with significant upside potential in price targets. The company's focus on AI and cloud computing aligns well with current market trends, making it a potentially strong candidate for short-term investment.\"}}\n"
     ]
    }
   ],
   "source": [
    "ticker = \"MSFT\"\n",
    "company_name = \"Microsoft Corporation\"\n",
    "result = agent_executor.invoke({\n",
    "        \"ticker\": ticker,\n",
    "        \"company_name\": company_name\n",
    "    })\n",
    "\n",
    "print (\n",
    "    {\n",
    "        \"ticker\": ticker,\n",
    "        \"company_name\": company_name,\n",
    "        \"search_results\": result[\"output\"],\n",
    "        \"raw_results\": result\n",
    "    }\n",
    ")"
   ]
  },
  {
   "cell_type": "code",
   "execution_count": null,
   "metadata": {},
   "outputs": [],
   "source": []
  }
 ],
 "metadata": {
  "kernelspec": {
   "display_name": "stock-sage-ai",
   "language": "python",
   "name": "python3"
  },
  "language_info": {
   "codemirror_mode": {
    "name": "ipython",
    "version": 3
   },
   "file_extension": ".py",
   "mimetype": "text/x-python",
   "name": "python",
   "nbconvert_exporter": "python",
   "pygments_lexer": "ipython3",
   "version": "3.10.8"
  }
 },
 "nbformat": 4,
 "nbformat_minor": 2
}
